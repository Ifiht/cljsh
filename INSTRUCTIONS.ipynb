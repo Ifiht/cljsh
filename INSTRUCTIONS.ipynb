{
 "cells": [
  {
   "cell_type": "markdown",
   "id": "moderate-special",
   "metadata": {},
   "source": [
    "Begin by getting OS & Java version:"
   ]
  },
  {
   "cell_type": "code",
   "execution_count": 2,
   "id": "handy-custody",
   "metadata": {},
   "outputs": [
    {
     "name": "stdout",
     "output_type": "stream",
     "text": [
      "Linux jupyter-ifiht-2dcljsh-2dmpjv0yrk 4.19.167+ #1 SMP Tue Feb 2 07:59:55 PST 2021 x86_64 x86_64 x86_64 GNU/Linux\r\n",
      "/bin/bash: java: command not found\r\n"
     ]
    }
   ],
   "source": [
    "! wget"
   ]
  },
  {
   "cell_type": "code",
   "execution_count": null,
   "id": "cordless-ratio",
   "metadata": {},
   "outputs": [],
   "source": [
    "! uname -a && java --version"
   ]
  }
 ],
 "metadata": {
  "kernelspec": {
   "display_name": "Python 3",
   "language": "python",
   "name": "python3"
  },
  "language_info": {
   "codemirror_mode": {
    "name": "ipython",
    "version": 3
   },
   "file_extension": ".py",
   "mimetype": "text/x-python",
   "name": "python",
   "nbconvert_exporter": "python",
   "pygments_lexer": "ipython3",
   "version": "3.7.10"
  }
 },
 "nbformat": 4,
 "nbformat_minor": 5
}
