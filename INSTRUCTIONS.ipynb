{
 "cells": [
  {
   "cell_type": "markdown",
   "id": "worthy-malpractice",
   "metadata": {},
   "source": [
    "Begin by getting OS & Java version:"
   ]
  },
  {
   "cell_type": "code",
   "execution_count": 3,
   "id": "violent-milwaukee",
   "metadata": {},
   "outputs": [],
   "source": [
    "! git config --global user.email \"peter@never.lan\"\n",
    "! git config --global user.name \"Peter Pan\""
   ]
  },
  {
   "cell_type": "code",
   "execution_count": null,
   "id": "pleased-spectacular",
   "metadata": {},
   "outputs": [],
   "source": [
    "! uname -a && java --version"
   ]
  }
 ],
 "metadata": {
  "kernelspec": {
   "display_name": "Python 3",
   "language": "python",
   "name": "python3"
  },
  "language_info": {
   "codemirror_mode": {
    "name": "ipython",
    "version": 3
   },
   "file_extension": ".py",
   "mimetype": "text/x-python",
   "name": "python",
   "nbconvert_exporter": "python",
   "pygments_lexer": "ipython3",
   "version": "3.7.10"
  }
 },
 "nbformat": 4,
 "nbformat_minor": 5
}
