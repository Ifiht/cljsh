{
 "cells": [
  {
   "cell_type": "markdown",
   "id": "worthy-malpractice",
   "metadata": {},
   "source": [
    "#### (=====( CLOJURE-SHELL )=====)"
   ]
  },
  {
   "cell_type": "markdown",
   "id": "cloudy-landscape",
   "metadata": {},
   "source": [
    "Project Deps:\n",
    " - https://github.com/dunovank/jupyter-themes"
   ]
  },
  {
   "cell_type": "markdown",
   "id": "close-poverty",
   "metadata": {},
   "source": [
    "Begin by getting OS & Java version:"
   ]
  },
  {
   "cell_type": "code",
   "execution_count": 1,
   "id": "pleased-spectacular",
   "metadata": {},
   "outputs": [
    {
     "name": "stdout",
     "output_type": "stream",
     "text": [
      "Linux jupyter-ifiht-2dcljsh-2dela9kmlf 4.19.167+ #1 SMP Tue Feb 2 07:59:55 PST 2021 x86_64 x86_64 x86_64 GNU/Linux\n",
      "openjdk 11.0.9.1-internal 2020-11-04\n",
      "OpenJDK Runtime Environment (build 11.0.9.1-internal+0-adhoc..src)\n",
      "OpenJDK 64-Bit Server VM (build 11.0.9.1-internal+0-adhoc..src, mixed mode)\n"
     ]
    }
   ],
   "source": [
    "! uname -a && java --version"
   ]
  },
  {
   "cell_type": "markdown",
   "id": "geographic-weapon",
   "metadata": {},
   "source": [
    "Change to the leiningen project root & compile:"
   ]
  },
  {
   "cell_type": "code",
   "execution_count": 2,
   "id": "young-quebec",
   "metadata": {},
   "outputs": [
    {
     "name": "stdout",
     "output_type": "stream",
     "text": [
      "Retrieving org/clojure/clojure/1.10.1/clojure-1.10.1.pom from central\n",
      "Retrieving org/clojure/spec.alpha/0.2.176/spec.alpha-0.2.176.pom from central\n",
      "Retrieving org/clojure/pom.contrib/0.2.2/pom.contrib-0.2.2.pom from central\n",
      "Retrieving org/clojure/core.specs.alpha/0.2.44/core.specs.alpha-0.2.44.pom from central\n",
      "Retrieving org/clojure/spec.alpha/0.2.176/spec.alpha-0.2.176.jar from central\n",
      "Retrieving org/clojure/core.specs.alpha/0.2.44/core.specs.alpha-0.2.44.jar from central\n",
      "Retrieving org/clojure/clojure/1.10.1/clojure-1.10.1.jar from central\n",
      "Compiling cljsh.core\n",
      "Created /home/jovyan/cljsh/target/uberjar/cljsh-0.1.3-SNAPSHOT.jar\n",
      "Created /home/jovyan/cljsh/target/uberjar/cljsh-0.1.3-SNAPSHOT-standalone.jar\n"
     ]
    }
   ],
   "source": [
    "! cd cljsh && ../lein uberjar"
   ]
  },
  {
   "cell_type": "code",
   "execution_count": null,
   "id": "minimal-simulation",
   "metadata": {},
   "outputs": [],
   "source": []
  }
 ],
 "metadata": {
  "kernelspec": {
   "display_name": "Python 3",
   "language": "python",
   "name": "python3"
  },
  "language_info": {
   "codemirror_mode": {
    "name": "ipython",
    "version": 3
   },
   "file_extension": ".py",
   "mimetype": "text/x-python",
   "name": "python",
   "nbconvert_exporter": "python",
   "pygments_lexer": "ipython3",
   "version": "3.7.10"
  }
 },
 "nbformat": 4,
 "nbformat_minor": 5
}
