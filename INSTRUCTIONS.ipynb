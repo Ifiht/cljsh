{
 "cells": [
  {
   "cell_type": "markdown",
   "id": "worthy-malpractice",
   "metadata": {},
   "source": [
    "Begin by getting OS & Java version:"
   ]
  },
  {
   "cell_type": "code",
   "execution_count": 1,
   "id": "pleased-spectacular",
   "metadata": {},
   "outputs": [
    {
     "name": "stdout",
     "output_type": "stream",
     "text": [
      "Linux jupyter-ifiht-2dcljsh-2dela9kmlf 4.19.167+ #1 SMP Tue Feb 2 07:59:55 PST 2021 x86_64 x86_64 x86_64 GNU/Linux\n",
      "openjdk 11.0.9.1-internal 2020-11-04\n",
      "OpenJDK Runtime Environment (build 11.0.9.1-internal+0-adhoc..src)\n",
      "OpenJDK 64-Bit Server VM (build 11.0.9.1-internal+0-adhoc..src, mixed mode)\n"
     ]
    }
   ],
   "source": [
    "! uname -a && java --version"
   ]
  },
  {
   "cell_type": "code",
   "execution_count": null,
   "id": "minimal-graduation",
   "metadata": {},
   "outputs": [],
   "source": []
  }
 ],
 "metadata": {
  "kernelspec": {
   "display_name": "Python 3",
   "language": "python",
   "name": "python3"
  },
  "language_info": {
   "codemirror_mode": {
    "name": "ipython",
    "version": 3
   },
   "file_extension": ".py",
   "mimetype": "text/x-python",
   "name": "python",
   "nbconvert_exporter": "python",
   "pygments_lexer": "ipython3",
   "version": "3.7.10"
  }
 },
 "nbformat": 4,
 "nbformat_minor": 5
}
